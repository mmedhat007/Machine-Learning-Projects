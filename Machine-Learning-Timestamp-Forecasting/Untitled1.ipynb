{
 "cells": [
  {
   "cell_type": "code",
   "execution_count": 42,
   "id": "b12dfe8c-2333-4fc2-b689-ad69a3c046b3",
   "metadata": {},
   "outputs": [],
   "source": [
    "import pandas as pd\n",
    "import numpy as np\n",
    "%matplotlib inline\n",
    "import matplotlib.pyplot as plt\n",
    "import matplotlib.dates as mdates  # Fix the typo in this import statement\n",
    "from sklearn.preprocessing import MinMaxScaler\n",
    "from keras.layers import LSTM, Dense, Dropout  # Fix the typo in this import statement\n",
    "from sklearn.model_selection import TimeSeriesSplit\n",
    "from sklearn.metrics import mean_squared_error, r2_score\n",
    "from keras.models import Sequential  # Fix the typo in this import statement\n",
    "from keras.layers import Dense\n",
    "import keras.backend as K  # Fix the typo in this import statement\n",
    "from keras.callbacks import EarlyStopping  # Fix the typo in this import statement\n",
    "from keras.optimizers import Adam  # Fix the typo in this import statement\n",
    "from keras.models import load_model  # Fix the typo in this import statement\n",
    "from keras.layers import LSTM\n",
    "from keras.utils.vis_utils import plot_model\n"
   ]
  },
  {
   "cell_type": "code",
   "execution_count": 43,
   "id": "1d44f818-4a80-4301-83ad-2a95db9732df",
   "metadata": {},
   "outputs": [
    {
     "name": "stderr",
     "output_type": "stream",
     "text": [
      "[*********************100%%**********************]  1 of 1 completed\n"
     ]
    }
   ],
   "source": [
    "import yfinance as yf\n",
    "\n",
    "\n",
    "df = yf.download(\"AAPL\", start=\"2020-01-01\", end=\"2021-01-01\")"
   ]
  },
  {
   "cell_type": "code",
   "execution_count": 44,
   "id": "868205d8-6f2c-4588-91e8-9792001ee161",
   "metadata": {},
   "outputs": [
    {
     "data": {
      "text/html": [
       "<div>\n",
       "<style scoped>\n",
       "    .dataframe tbody tr th:only-of-type {\n",
       "        vertical-align: middle;\n",
       "    }\n",
       "\n",
       "    .dataframe tbody tr th {\n",
       "        vertical-align: top;\n",
       "    }\n",
       "\n",
       "    .dataframe thead th {\n",
       "        text-align: right;\n",
       "    }\n",
       "</style>\n",
       "<table border=\"1\" class=\"dataframe\">\n",
       "  <thead>\n",
       "    <tr style=\"text-align: right;\">\n",
       "      <th></th>\n",
       "      <th>Open</th>\n",
       "      <th>High</th>\n",
       "      <th>Low</th>\n",
       "      <th>Volume</th>\n",
       "    </tr>\n",
       "    <tr>\n",
       "      <th>Date</th>\n",
       "      <th></th>\n",
       "      <th></th>\n",
       "      <th></th>\n",
       "      <th></th>\n",
       "    </tr>\n",
       "  </thead>\n",
       "  <tbody>\n",
       "    <tr>\n",
       "      <th>2020-01-02</th>\n",
       "      <td>0.210292</td>\n",
       "      <td>0.220719</td>\n",
       "      <td>0.254288</td>\n",
       "      <td>0.233767</td>\n",
       "    </tr>\n",
       "    <tr>\n",
       "      <th>2020-01-03</th>\n",
       "      <td>0.213100</td>\n",
       "      <td>0.220658</td>\n",
       "      <td>0.258322</td>\n",
       "      <td>0.262313</td>\n",
       "    </tr>\n",
       "    <tr>\n",
       "      <th>2020-01-06</th>\n",
       "      <td>0.202734</td>\n",
       "      <td>0.218760</td>\n",
       "      <td>0.246774</td>\n",
       "      <td>0.188763</td>\n",
       "    </tr>\n",
       "    <tr>\n",
       "      <th>2020-01-07</th>\n",
       "      <td>0.221399</td>\n",
       "      <td>0.221637</td>\n",
       "      <td>0.261340</td>\n",
       "      <td>0.163712</td>\n",
       "    </tr>\n",
       "    <tr>\n",
       "      <th>2020-01-08</th>\n",
       "      <td>0.213131</td>\n",
       "      <td>0.232474</td>\n",
       "      <td>0.260354</td>\n",
       "      <td>0.224812</td>\n",
       "    </tr>\n",
       "  </tbody>\n",
       "</table>\n",
       "</div>"
      ],
      "text/plain": [
       "                Open      High       Low    Volume\n",
       "Date                                              \n",
       "2020-01-02  0.210292  0.220719  0.254288  0.233767\n",
       "2020-01-03  0.213100  0.220658  0.258322  0.262313\n",
       "2020-01-06  0.202734  0.218760  0.246774  0.188763\n",
       "2020-01-07  0.221399  0.221637  0.261340  0.163712\n",
       "2020-01-08  0.213131  0.232474  0.260354  0.224812"
      ]
     },
     "execution_count": 44,
     "metadata": {},
     "output_type": "execute_result"
    }
   ],
   "source": [
    "#Set Target Variable\n",
    "output_var = PD.DataFrame(df['Close'])\n",
    "#Selecting the Features\n",
    "features = ['Open','High','Low','Volume']\n",
    "\n",
    "scaler = MinMaxScaler()\n",
    "feature_transform = scaler.fit_transform(df[features])\n",
    "feature_transform= pd.DataFrame(columns=features, data=feature_transform, index=df.index)\n",
    "feature_transform.head()"
   ]
  },
  {
   "cell_type": "code",
   "execution_count": 45,
   "id": "5d4c959b-2d7e-4df4-913a-ad1809b0009a",
   "metadata": {},
   "outputs": [],
   "source": [
    "timesplit= TimeSeriesSplit(n_splits=10)\n",
    "for train_index, test_index in timesplit.split(feature_transform):\n",
    "        X_train, X_test = feature_transform[:len(train_index)], feature_transform[len(train_index): (len(train_index)+len(test_index))]\n",
    "        y_train, y_test = output_var[:len(train_index)].values.ravel(), output_var[len(train_index): (len(train_index)+len(test_index))].values.ravel()"
   ]
  },
  {
   "cell_type": "code",
   "execution_count": 46,
   "id": "71458fed-bcbe-4aaa-9ec0-06c128dc8185",
   "metadata": {},
   "outputs": [],
   "source": [
    "trainX =np.array(X_train)\n",
    "testX =np.array(X_test)\n",
    "X_train = trainX.reshape(X_train.shape[0], 1, X_train.shape[1])\n",
    "X_test = testX.reshape(X_test.shape[0], 1, X_test.shape[1])"
   ]
  },
  {
   "cell_type": "code",
   "execution_count": 47,
   "id": "27f4c242-3607-4072-8184-f83679dfe4d9",
   "metadata": {},
   "outputs": [
    {
     "name": "stdout",
     "output_type": "stream",
     "text": [
      "Epoch 1/10\n",
      "8/8 [==============================] - 2s 3ms/step - loss: 8903.9121\n",
      "Epoch 2/10\n",
      "8/8 [==============================] - 0s 3ms/step - loss: 8899.4395\n",
      "Epoch 3/10\n",
      "8/8 [==============================] - 0s 3ms/step - loss: 8894.6133\n",
      "Epoch 4/10\n",
      "8/8 [==============================] - 0s 4ms/step - loss: 8889.3740\n",
      "Epoch 5/10\n",
      "8/8 [==============================] - 0s 2ms/step - loss: 8883.4102\n",
      "Epoch 6/10\n",
      "8/8 [==============================] - 0s 2ms/step - loss: 8876.6123\n",
      "Epoch 7/10\n",
      "8/8 [==============================] - 0s 3ms/step - loss: 8868.4785\n",
      "Epoch 8/10\n",
      "8/8 [==============================] - 0s 3ms/step - loss: 8858.7480\n",
      "Epoch 9/10\n",
      "8/8 [==============================] - 0s 2ms/step - loss: 8847.3643\n",
      "Epoch 10/10\n",
      "8/8 [==============================] - 0s 2ms/step - loss: 8834.5762\n"
     ]
    },
    {
     "data": {
      "text/plain": [
       "<keras.callbacks.History at 0x1a189e74eb0>"
      ]
     },
     "execution_count": 47,
     "metadata": {},
     "output_type": "execute_result"
    }
   ],
   "source": [
    "lstm = Sequential()\n",
    "lstm.add(LSTM(32, input_shape=(1, trainX.shape[1]), activation='relu', return_sequences=False))\n",
    "lstm.add(Dense(1))\n",
    "lstm.compile(loss='mean_squared_error', optimizer='adam')\n",
    "lstm.fit(X_train, y_train, epochs=10, batch_size=32)"
   ]
  },
  {
   "cell_type": "code",
   "execution_count": 48,
   "id": "d4e3b507-340e-45b1-ad23-7c125773b809",
   "metadata": {},
   "outputs": [
    {
     "name": "stdout",
     "output_type": "stream",
     "text": [
      "WARNING:tensorflow:5 out of the last 5 calls to <function Model.make_predict_function.<locals>.predict_function at 0x000001A188286A60> triggered tf.function retracing. Tracing is expensive and the excessive number of tracings could be due to (1) creating @tf.function repeatedly in a loop, (2) passing tensors with different shapes, (3) passing Python objects instead of tensors. For (1), please define your @tf.function outside of the loop. For (2), @tf.function has reduce_retracing=True option that can avoid unnecessary retracing. For (3), please refer to https://www.tensorflow.org/guide/function#controlling_retracing and https://www.tensorflow.org/api_docs/python/tf/function for  more details.\n",
      "1/1 [==============================] - 1s 596ms/step\n"
     ]
    }
   ],
   "source": [
    "y_pred= lstm.predict(X_test)"
   ]
  },
  {
   "cell_type": "code",
   "execution_count": 49,
   "id": "1d854e8b-f992-4c9e-bcba-9c5966197362",
   "metadata": {},
   "outputs": [
    {
     "data": {
      "image/png": "[encoded data removed]",
      "text/plain": [
       "<Figure size 432x288 with 1 Axes>"
      ]
     },
     "metadata": {
      "needs_background": "light"
     },
     "output_type": "display_data"
    }
   ],
   "source": [
    "#Predicted vs True Adj Close Value – LSTM\n",
    "plt.plot(y_test, label='True Value')\n",
    "plt.plot(y_pred, label='LSTM Value')\n",
    "plt.title('Prediction by LSTM')\n",
    "plt.xlabel('Time Scale')\n",
    "plt.ylabel('Scaled USD')\n",
    "plt.legend()\n",
    "plt.show()"
   ]
  },
  {
   "cell_type": "code",
   "execution_count": null,
   "id": "118318bd-7079-45e4-91f0-59c06ea14ae5",
   "metadata": {},
   "outputs": [],
   "source": []
  },
  {
   "cell_type": "code",
   "execution_count": null,
   "id": "79fb0e8b-7989-4b28-a0a0-d26d87b83916",
   "metadata": {},
   "outputs": [],
   "source": []
  }
 ],
 "metadata": {
  "kernelspec": {
   "display_name": "Python 3 (ipykernel)",
   "language": "python",
   "name": "python3"
  },
  "language_info": {
   "codemirror_mode": {
    "name": "ipython",
    "version": 3
   },
   "file_extension": ".py",
   "mimetype": "text/x-python",
   "name": "python",
   "nbconvert_exporter": "python",
   "pygments_lexer": "ipython3",
   "version": "3.9.12"
  }
 },
 "nbformat": 4,
 "nbformat_minor": 5
}
